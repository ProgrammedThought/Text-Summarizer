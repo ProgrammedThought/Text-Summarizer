{
  "cells": [
    {
      "cell_type": "markdown",
      "metadata": {
        "id": "view-in-github",
        "colab_type": "text"
      },
      "source": [
        "<a href=\"https://colab.research.google.com/github/ProgrammedThought/Text-Summarizer/blob/main/Data_Analytics_Cluster_1.ipynb\" target=\"_parent\"><img src=\"https://colab.research.google.com/assets/colab-badge.svg\" alt=\"Open In Colab\"/></a>"
      ]
    },
    {
      "cell_type": "code",
      "execution_count": null,
      "metadata": {
        "colab": {
          "base_uri": "https://localhost:8080/"
        },
        "id": "BsvUk0dz_1qc",
        "outputId": "f10dcd32-20f8-4b73-f597-27d31c8eda23"
      },
      "outputs": [
        {
          "output_type": "stream",
          "name": "stdout",
          "text": [
            "Drive already mounted at /content/drive; to attempt to forcibly remount, call drive.mount(\"/content/drive\", force_remount=True).\n"
          ]
        }
      ],
      "source": [
        "from google.colab import drive\n",
        "drive.mount('/content/drive')"
      ]
    },
    {
      "cell_type": "code",
      "execution_count": null,
      "metadata": {
        "id": "QBeZyF0DAIay"
      },
      "outputs": [],
      "source": [
        "import pandas as pd\n",
        "import numpy as np\n",
        "import sklearn\n",
        "from sklearn.impute import SimpleImputer\n",
        "from sklearn.ensemble import RandomForestRegressor\n",
        "import gc\n",
        "import matplotlib.pyplot as plt"
      ]
    },
    {
      "cell_type": "code",
      "execution_count": null,
      "metadata": {
        "id": "Ax6OSqCwALXM",
        "colab": {
          "base_uri": "https://localhost:8080/",
          "height": 356
        },
        "outputId": "ee200193-8f76-4fa3-fa52-1f169814a9fb"
      },
      "outputs": [
        {
          "output_type": "error",
          "ename": "FileNotFoundError",
          "evalue": "[Errno 2] No such file or directory: '/content/drive/MyDrive/final_data_4_Cluster_22/final_data_4_Cluster_11.csv'",
          "traceback": [
            "\u001b[0;31m---------------------------------------------------------------------------\u001b[0m",
            "\u001b[0;31mFileNotFoundError\u001b[0m                         Traceback (most recent call last)",
            "\u001b[0;32m<ipython-input-249-a1274c300411>\u001b[0m in \u001b[0;36m<cell line: 2>\u001b[0;34m()\u001b[0m\n\u001b[1;32m      1\u001b[0m \u001b[0;31m#Import data file\u001b[0m\u001b[0;34m\u001b[0m\u001b[0;34m\u001b[0m\u001b[0m\n\u001b[0;32m----> 2\u001b[0;31m \u001b[0mtraindata\u001b[0m \u001b[0;34m=\u001b[0m \u001b[0mpd\u001b[0m\u001b[0;34m.\u001b[0m\u001b[0mread_csv\u001b[0m\u001b[0;34m(\u001b[0m\u001b[0;34m'/content/drive/MyDrive/final_data_4_Cluster_22/final_data_4_Cluster_11.csv'\u001b[0m\u001b[0;34m)\u001b[0m\u001b[0;34m\u001b[0m\u001b[0;34m\u001b[0m\u001b[0m\n\u001b[0m\u001b[1;32m      3\u001b[0m \u001b[0;34m\u001b[0m\u001b[0m\n\u001b[1;32m      4\u001b[0m \u001b[0mtestdata\u001b[0m \u001b[0;34m=\u001b[0m \u001b[0mpd\u001b[0m\u001b[0;34m.\u001b[0m\u001b[0mread_csv\u001b[0m\u001b[0;34m(\u001b[0m\u001b[0;34m'/content/drive/MyDrive/final_data_4_Cluster_22/final_data_4_Cluster_11_test 1.csv'\u001b[0m\u001b[0;34m)\u001b[0m\u001b[0;34m\u001b[0m\u001b[0;34m\u001b[0m\u001b[0m\n\u001b[1;32m      5\u001b[0m \u001b[0;34m\u001b[0m\u001b[0m\n",
            "\u001b[0;32m/usr/local/lib/python3.10/dist-packages/pandas/io/parsers/readers.py\u001b[0m in \u001b[0;36mread_csv\u001b[0;34m(filepath_or_buffer, sep, delimiter, header, names, index_col, usecols, dtype, engine, converters, true_values, false_values, skipinitialspace, skiprows, skipfooter, nrows, na_values, keep_default_na, na_filter, verbose, skip_blank_lines, parse_dates, infer_datetime_format, keep_date_col, date_parser, date_format, dayfirst, cache_dates, iterator, chunksize, compression, thousands, decimal, lineterminator, quotechar, quoting, doublequote, escapechar, comment, encoding, encoding_errors, dialect, on_bad_lines, delim_whitespace, low_memory, memory_map, float_precision, storage_options, dtype_backend)\u001b[0m\n\u001b[1;32m    910\u001b[0m     \u001b[0mkwds\u001b[0m\u001b[0;34m.\u001b[0m\u001b[0mupdate\u001b[0m\u001b[0;34m(\u001b[0m\u001b[0mkwds_defaults\u001b[0m\u001b[0;34m)\u001b[0m\u001b[0;34m\u001b[0m\u001b[0;34m\u001b[0m\u001b[0m\n\u001b[1;32m    911\u001b[0m \u001b[0;34m\u001b[0m\u001b[0m\n\u001b[0;32m--> 912\u001b[0;31m     \u001b[0;32mreturn\u001b[0m \u001b[0m_read\u001b[0m\u001b[0;34m(\u001b[0m\u001b[0mfilepath_or_buffer\u001b[0m\u001b[0;34m,\u001b[0m \u001b[0mkwds\u001b[0m\u001b[0;34m)\u001b[0m\u001b[0;34m\u001b[0m\u001b[0;34m\u001b[0m\u001b[0m\n\u001b[0m\u001b[1;32m    913\u001b[0m \u001b[0;34m\u001b[0m\u001b[0m\n\u001b[1;32m    914\u001b[0m \u001b[0;34m\u001b[0m\u001b[0m\n",
            "\u001b[0;32m/usr/local/lib/python3.10/dist-packages/pandas/io/parsers/readers.py\u001b[0m in \u001b[0;36m_read\u001b[0;34m(filepath_or_buffer, kwds)\u001b[0m\n\u001b[1;32m    575\u001b[0m \u001b[0;34m\u001b[0m\u001b[0m\n\u001b[1;32m    576\u001b[0m     \u001b[0;31m# Create the parser.\u001b[0m\u001b[0;34m\u001b[0m\u001b[0;34m\u001b[0m\u001b[0m\n\u001b[0;32m--> 577\u001b[0;31m     \u001b[0mparser\u001b[0m \u001b[0;34m=\u001b[0m \u001b[0mTextFileReader\u001b[0m\u001b[0;34m(\u001b[0m\u001b[0mfilepath_or_buffer\u001b[0m\u001b[0;34m,\u001b[0m \u001b[0;34m**\u001b[0m\u001b[0mkwds\u001b[0m\u001b[0;34m)\u001b[0m\u001b[0;34m\u001b[0m\u001b[0;34m\u001b[0m\u001b[0m\n\u001b[0m\u001b[1;32m    578\u001b[0m \u001b[0;34m\u001b[0m\u001b[0m\n\u001b[1;32m    579\u001b[0m     \u001b[0;32mif\u001b[0m \u001b[0mchunksize\u001b[0m \u001b[0;32mor\u001b[0m \u001b[0miterator\u001b[0m\u001b[0;34m:\u001b[0m\u001b[0;34m\u001b[0m\u001b[0;34m\u001b[0m\u001b[0m\n",
            "\u001b[0;32m/usr/local/lib/python3.10/dist-packages/pandas/io/parsers/readers.py\u001b[0m in \u001b[0;36m__init__\u001b[0;34m(self, f, engine, **kwds)\u001b[0m\n\u001b[1;32m   1405\u001b[0m \u001b[0;34m\u001b[0m\u001b[0m\n\u001b[1;32m   1406\u001b[0m         \u001b[0mself\u001b[0m\u001b[0;34m.\u001b[0m\u001b[0mhandles\u001b[0m\u001b[0;34m:\u001b[0m \u001b[0mIOHandles\u001b[0m \u001b[0;34m|\u001b[0m \u001b[0;32mNone\u001b[0m \u001b[0;34m=\u001b[0m \u001b[0;32mNone\u001b[0m\u001b[0;34m\u001b[0m\u001b[0;34m\u001b[0m\u001b[0m\n\u001b[0;32m-> 1407\u001b[0;31m         \u001b[0mself\u001b[0m\u001b[0;34m.\u001b[0m\u001b[0m_engine\u001b[0m \u001b[0;34m=\u001b[0m \u001b[0mself\u001b[0m\u001b[0;34m.\u001b[0m\u001b[0m_make_engine\u001b[0m\u001b[0;34m(\u001b[0m\u001b[0mf\u001b[0m\u001b[0;34m,\u001b[0m \u001b[0mself\u001b[0m\u001b[0;34m.\u001b[0m\u001b[0mengine\u001b[0m\u001b[0;34m)\u001b[0m\u001b[0;34m\u001b[0m\u001b[0;34m\u001b[0m\u001b[0m\n\u001b[0m\u001b[1;32m   1408\u001b[0m \u001b[0;34m\u001b[0m\u001b[0m\n\u001b[1;32m   1409\u001b[0m     \u001b[0;32mdef\u001b[0m \u001b[0mclose\u001b[0m\u001b[0;34m(\u001b[0m\u001b[0mself\u001b[0m\u001b[0;34m)\u001b[0m \u001b[0;34m->\u001b[0m \u001b[0;32mNone\u001b[0m\u001b[0;34m:\u001b[0m\u001b[0;34m\u001b[0m\u001b[0;34m\u001b[0m\u001b[0m\n",
            "\u001b[0;32m/usr/local/lib/python3.10/dist-packages/pandas/io/parsers/readers.py\u001b[0m in \u001b[0;36m_make_engine\u001b[0;34m(self, f, engine)\u001b[0m\n\u001b[1;32m   1659\u001b[0m                 \u001b[0;32mif\u001b[0m \u001b[0;34m\"b\"\u001b[0m \u001b[0;32mnot\u001b[0m \u001b[0;32min\u001b[0m \u001b[0mmode\u001b[0m\u001b[0;34m:\u001b[0m\u001b[0;34m\u001b[0m\u001b[0;34m\u001b[0m\u001b[0m\n\u001b[1;32m   1660\u001b[0m                     \u001b[0mmode\u001b[0m \u001b[0;34m+=\u001b[0m \u001b[0;34m\"b\"\u001b[0m\u001b[0;34m\u001b[0m\u001b[0;34m\u001b[0m\u001b[0m\n\u001b[0;32m-> 1661\u001b[0;31m             self.handles = get_handle(\n\u001b[0m\u001b[1;32m   1662\u001b[0m                 \u001b[0mf\u001b[0m\u001b[0;34m,\u001b[0m\u001b[0;34m\u001b[0m\u001b[0;34m\u001b[0m\u001b[0m\n\u001b[1;32m   1663\u001b[0m                 \u001b[0mmode\u001b[0m\u001b[0;34m,\u001b[0m\u001b[0;34m\u001b[0m\u001b[0;34m\u001b[0m\u001b[0m\n",
            "\u001b[0;32m/usr/local/lib/python3.10/dist-packages/pandas/io/common.py\u001b[0m in \u001b[0;36mget_handle\u001b[0;34m(path_or_buf, mode, encoding, compression, memory_map, is_text, errors, storage_options)\u001b[0m\n\u001b[1;32m    857\u001b[0m         \u001b[0;32mif\u001b[0m \u001b[0mioargs\u001b[0m\u001b[0;34m.\u001b[0m\u001b[0mencoding\u001b[0m \u001b[0;32mand\u001b[0m \u001b[0;34m\"b\"\u001b[0m \u001b[0;32mnot\u001b[0m \u001b[0;32min\u001b[0m \u001b[0mioargs\u001b[0m\u001b[0;34m.\u001b[0m\u001b[0mmode\u001b[0m\u001b[0;34m:\u001b[0m\u001b[0;34m\u001b[0m\u001b[0;34m\u001b[0m\u001b[0m\n\u001b[1;32m    858\u001b[0m             \u001b[0;31m# Encoding\u001b[0m\u001b[0;34m\u001b[0m\u001b[0;34m\u001b[0m\u001b[0m\n\u001b[0;32m--> 859\u001b[0;31m             handle = open(\n\u001b[0m\u001b[1;32m    860\u001b[0m                 \u001b[0mhandle\u001b[0m\u001b[0;34m,\u001b[0m\u001b[0;34m\u001b[0m\u001b[0;34m\u001b[0m\u001b[0m\n\u001b[1;32m    861\u001b[0m                 \u001b[0mioargs\u001b[0m\u001b[0;34m.\u001b[0m\u001b[0mmode\u001b[0m\u001b[0;34m,\u001b[0m\u001b[0;34m\u001b[0m\u001b[0;34m\u001b[0m\u001b[0m\n",
            "\u001b[0;31mFileNotFoundError\u001b[0m: [Errno 2] No such file or directory: '/content/drive/MyDrive/final_data_4_Cluster_22/final_data_4_Cluster_11.csv'"
          ]
        }
      ],
      "source": [
        "#Import data file\n",
        "traindata = pd.read_csv('/content/drive/MyDrive/final_data_4_Cluster_22/final_data_4_Cluster_11.csv')\n",
        "\n",
        "testdata = pd.read_csv('/content/drive/MyDrive/final_data_4_Cluster_22/final_data_4_Cluster_11_test 1.csv')\n",
        "\n",
        "print(testdata.shape)\n",
        "null_counts = testdata.isnull().sum()\n",
        "print(\"Columns with null values:\")\n",
        "print(null_counts[null_counts > 0])\n",
        "\n",
        "data = pd.concat([traindata, testdata], axis=0)\n",
        "\n",
        "print(traindata.columns)\n",
        "print(testdata.columns)\n",
        "print(traindata.shape)\n",
        "print(testdata.shape)\n",
        "print(data.shape)\n"
      ]
    },
    {
      "cell_type": "code",
      "source": [],
      "metadata": {
        "id": "oeBkBFBL3-To"
      },
      "execution_count": null,
      "outputs": []
    },
    {
      "cell_type": "code",
      "execution_count": null,
      "metadata": {
        "id": "JO-misHeNhzD"
      },
      "outputs": [],
      "source": [
        "print(data.head(5))"
      ]
    },
    {
      "cell_type": "code",
      "execution_count": null,
      "metadata": {
        "id": "FGPgTdUpmGgp"
      },
      "outputs": [],
      "source": [
        "import pandas as pd\n",
        "\n",
        "# Assuming 'df' is your DataFrame and it includes a column named 'StateHoliday'\n",
        "# This will create a new DataFrame with one-hot encoded columns for the 'StateHoliday' column\n",
        "one_hot_encoded_df = pd.get_dummies(data, columns=['StateHoliday'])\n",
        "\n",
        "# Display the new DataFrame to see the one-hot encoded columns\n",
        "print(one_hot_encoded_df.head())"
      ]
    },
    {
      "cell_type": "code",
      "execution_count": null,
      "metadata": {
        "id": "6sZhKvpJmVwg"
      },
      "outputs": [],
      "source": [
        "data = one_hot_encoded_df"
      ]
    },
    {
      "cell_type": "code",
      "execution_count": null,
      "metadata": {
        "id": "ClDZoI0QAZGB"
      },
      "outputs": [],
      "source": [
        "print(data.columns)\n",
        "\n",
        "#Display the number of missing (or NaN) values in each column of the data\n",
        "NAN_count = data.isna().sum()\n",
        "print(\"NAN count before: \\n\", NAN_count)\n",
        "\n",
        "data = data.drop(columns=['Customers'])\n",
        "data = data.drop(columns=['Cluster'])\n",
        "\n",
        "NAN_count = data.isna().sum()\n",
        "print(\"NAN count after dropping the customers column: \\n\", NAN_count)"
      ]
    },
    {
      "cell_type": "code",
      "execution_count": null,
      "metadata": {
        "id": "mOTVHHA8Dt-J"
      },
      "outputs": [],
      "source": [
        "print(data.head(10))"
      ]
    },
    {
      "cell_type": "code",
      "execution_count": null,
      "metadata": {
        "id": "_jlTE9emEYAN"
      },
      "outputs": [],
      "source": [
        "data['Date'] = pd.to_datetime(data['Date'])"
      ]
    },
    {
      "cell_type": "code",
      "execution_count": null,
      "metadata": {
        "id": "mNaM9GxsE__O"
      },
      "outputs": [],
      "source": [
        "data = data.sort_values(['Date', 'Store'])\n",
        "data.reset_index(drop=True, inplace=True)\n",
        "print(data.head(20))\n"
      ]
    },
    {
      "cell_type": "code",
      "source": [
        "print(data.groupby(['Store', 'Storetypea', 'Storetypeb', 'Storetypec', 'Storetyped', 'Assortmenta', 'Assortmentb', 'Assortmentc'])['Sales'])\n"
      ],
      "metadata": {
        "id": "yMW3pS7x5o-7"
      },
      "execution_count": null,
      "outputs": []
    },
    {
      "cell_type": "code",
      "execution_count": null,
      "metadata": {
        "id": "Ob17XOk8Jaa8"
      },
      "outputs": [],
      "source": [
        "#Rolling statistics\n",
        "\n",
        "data['Rolling_Mean_1Week'] = data.groupby(['Store', 'Storetypea', 'Storetypeb', 'Storetypec', 'Storetyped', 'Assortmenta', 'Assortmentb', 'Assortmentc'])['Sales'].transform(lambda x: x.rolling(7, min_periods=7).mean().shift())\n",
        "\n",
        "data['Rolling_SD_1Week'] = data.groupby(['Store', 'Storetypea', 'Storetypeb', 'Storetypec', 'Storetyped', 'Assortmenta', 'Assortmentb', 'Assortmentc'])['Sales'].transform(lambda x: x.rolling(7, min_periods=7).std().shift())\n",
        "\n",
        "data['Rolling_Mean_2weeks'] = data.groupby(['Store', 'Storetypea', 'Storetypeb', 'Storetypec', 'Storetyped', 'Assortmenta', 'Assortmentb', 'Assortmentc'])['Sales'].transform(lambda x: x.rolling(14, min_periods=14).mean().shift())\n",
        "\n",
        "data['Rolling_SD_2weeks'] = data.groupby(['Store', 'Storetypea', 'Storetypeb', 'Storetypec', 'Storetyped', 'Assortmenta', 'Assortmentb', 'Assortmentc'])['Sales'].transform(lambda x: x.rolling(14, min_periods=14).std().shift())\n",
        "\n",
        "data['Rolling_Mean_1year'] = data.groupby(['Store', 'Storetypea', 'Storetypeb', 'Storetypec', 'Storetyped', 'Assortmenta', 'Assortmentb', 'Assortmentc'])['Sales'].transform(lambda x: x.rolling(365, min_periods=365).mean().shift())\n",
        "\n",
        "data['Rolling_SD_1year'] = data.groupby(['Store', 'Storetypea', 'Storetypeb', 'Storetypec', 'Storetyped', 'Assortmenta', 'Assortmentb', 'Assortmentc'])['Sales'].transform(lambda x: x.rolling(365, min_periods=365).std().shift())\n",
        "\n",
        "\n",
        "\n",
        "\n"
      ]
    },
    {
      "cell_type": "code",
      "execution_count": null,
      "metadata": {
        "id": "dCDhFYvSPJ2c"
      },
      "outputs": [],
      "source": [
        "# Check for null values in each column\n",
        "null_counts = data.isnull().sum()\n",
        "\n",
        "# Print columns with null values\n",
        "print(\"Columns with null values:\")\n",
        "print(null_counts[null_counts > 0])"
      ]
    },
    {
      "cell_type": "code",
      "execution_count": null,
      "metadata": {
        "id": "RdIJyuduPY6z"
      },
      "outputs": [],
      "source": [
        "data = data.drop(columns=['CompetitionOpenSinceMonth'])\n",
        "data = data.drop(columns=['CompetitionOpenSinceYear'])\n",
        "data = data.drop(columns=['CompetitionOpenSince'])"
      ]
    },
    {
      "cell_type": "code",
      "execution_count": null,
      "metadata": {
        "id": "dAlLFPe_PfgS"
      },
      "outputs": [],
      "source": [
        "# Check for null values in each column\n",
        "null_counts = data.isnull().sum()\n",
        "\n",
        "# Print columns with null values\n",
        "print(\"Columns with null values:\")\n",
        "print(null_counts[null_counts > 0])"
      ]
    },
    {
      "cell_type": "code",
      "execution_count": null,
      "metadata": {
        "id": "EBgru7KHP5kg"
      },
      "outputs": [],
      "source": [
        "data = data.drop(columns=['StoreType'])\n",
        "data = data.drop(columns=['Assortment'])"
      ]
    },
    {
      "cell_type": "code",
      "source": [
        "print(data[['Rolling_Mean_1Week', 'Rolling_SD_1Week', 'Rolling_Mean_2weeks', 'Rolling_SD_2weeks', 'Rolling_Mean_1year', 'Rolling_SD_1year']].tail(100))\n"
      ],
      "metadata": {
        "colab": {
          "base_uri": "https://localhost:8080/"
        },
        "id": "Azru9n2C0L8Y",
        "outputId": "cf0ee167-056f-43f0-da4c-e1394a2d51d3"
      },
      "execution_count": null,
      "outputs": [
        {
          "output_type": "stream",
          "name": "stdout",
          "text": [
            "        Rolling_Mean_1Week  Rolling_SD_1Week  Rolling_Mean_2weeks  \\\n",
            "378164                 NaN               NaN                  NaN   \n",
            "378165                 NaN               NaN                  NaN   \n",
            "378166                 NaN               NaN                  NaN   \n",
            "378167                 NaN               NaN                  NaN   \n",
            "378168                 NaN               NaN                  NaN   \n",
            "...                    ...               ...                  ...   \n",
            "378259                 NaN               NaN                  NaN   \n",
            "378260                 NaN               NaN                  NaN   \n",
            "378261                 NaN               NaN                  NaN   \n",
            "378262                 NaN               NaN                  NaN   \n",
            "378263                 NaN               NaN                  NaN   \n",
            "\n",
            "        Rolling_SD_2weeks  Rolling_Mean_1year  Rolling_SD_1year  \n",
            "378164                NaN                 NaN               NaN  \n",
            "378165                NaN                 NaN               NaN  \n",
            "378166                NaN                 NaN               NaN  \n",
            "378167                NaN                 NaN               NaN  \n",
            "378168                NaN                 NaN               NaN  \n",
            "...                   ...                 ...               ...  \n",
            "378259                NaN                 NaN               NaN  \n",
            "378260                NaN                 NaN               NaN  \n",
            "378261                NaN                 NaN               NaN  \n",
            "378262                NaN                 NaN               NaN  \n",
            "378263                NaN                 NaN               NaN  \n",
            "\n",
            "[100 rows x 6 columns]\n"
          ]
        }
      ]
    },
    {
      "cell_type": "code",
      "execution_count": null,
      "metadata": {
        "id": "sqXdEO_AaWRy",
        "colab": {
          "base_uri": "https://localhost:8080/"
        },
        "outputId": "4a07c3be-3283-49f9-a79f-a9365ea2e49a"
      },
      "outputs": [
        {
          "output_type": "stream",
          "name": "stdout",
          "text": [
            "Columns with null values:\n",
            "Sales    266\n",
            "dtype: int64\n"
          ]
        }
      ],
      "source": [
        "#Dropping null valued rows after creating additional features to not let any null value impact test data rows\n",
        "data = data.dropna(subset= ['Rolling_Mean_1Week', 'Rolling_SD_1Week', 'Rolling_Mean_2weeks', 'Rolling_SD_2weeks', 'Rolling_Mean_1year', 'Rolling_SD_1year'])\n",
        "null_counts = data.isnull().sum()\n",
        "print(\"Columns with null values:\")\n",
        "print(null_counts[null_counts > 0])\n",
        "\n",
        "data = data.sort_values(['Date', 'Store'])\n",
        "data = data.reset_index(drop=True)"
      ]
    },
    {
      "cell_type": "code",
      "execution_count": null,
      "metadata": {
        "colab": {
          "base_uri": "https://localhost:8080/"
        },
        "id": "WBaXKTN7bKtf",
        "outputId": "1f51a5e6-478a-4442-d78a-9ba4aa12adb6"
      },
      "outputs": [
        {
          "output_type": "stream",
          "name": "stdout",
          "text": [
            "        Store  DayOfWeek       Date   Sales  Open  Promo  SchoolHoliday  \\\n",
            "223871   1100          5 2015-07-31  7270.0     1      1              1   \n",
            "223872   1102          5 2015-07-31  7211.0     1      1              0   \n",
            "223873   1107          5 2015-07-31  9433.0     1      1              0   \n",
            "223874   1108          5 2015-07-31  6602.0     1      1              1   \n",
            "223875   1111          5 2015-07-31  5723.0     1      1              1   \n",
            "\n",
            "        CompetitionDistance  Promo2  Promo2SinceWeek  ...  StateHoliday_0  \\\n",
            "223871                  540       1               14  ...            True   \n",
            "223872                  850       1               40  ...            True   \n",
            "223873                 1400       1               13  ...            True   \n",
            "223874                  540       0                1  ...            True   \n",
            "223875                 1900       1               31  ...            True   \n",
            "\n",
            "        StateHoliday_a  StateHoliday_b  StateHoliday_c  Rolling_Mean_1Week  \\\n",
            "223871           False           False           False         4508.142857   \n",
            "223872           False           False           False         6630.714286   \n",
            "223873           False           False           False         6921.285714   \n",
            "223874           False           False           False         5561.285714   \n",
            "223875           False           False           False         4400.000000   \n",
            "\n",
            "        Rolling_SD_1Week  Rolling_Mean_2weeks  Rolling_SD_2weeks  \\\n",
            "223871       2588.899858          3933.071429        2192.446244   \n",
            "223872       3100.229492          5892.071429        2774.148115   \n",
            "223873       3641.418026          5778.500000        3116.825030   \n",
            "223874       3676.450540          4695.071429        2977.141749   \n",
            "223875       2659.300785          3889.428571        2186.965573   \n",
            "\n",
            "        Rolling_Mean_1year  Rolling_SD_1year  \n",
            "223871         4334.104110       2607.211630  \n",
            "223872         5439.250261       2673.752591  \n",
            "223873         4642.073582       2647.561495  \n",
            "223874         4936.882192       3174.133450  \n",
            "223875         4082.279452       2370.333013  \n",
            "\n",
            "[5 rows x 36 columns]\n"
          ]
        }
      ],
      "source": [
        "print(data.tail(5))"
      ]
    },
    {
      "cell_type": "code",
      "execution_count": null,
      "metadata": {
        "id": "CEWzAGTqcFPb"
      },
      "outputs": [],
      "source": [
        "#Splitting data in preparation for the use of our machine learning model\n",
        "#extract only data of open stores\n",
        "data['Date'] = pd.to_datetime(data['Date'])\n",
        "df_open = data[data[\"Open\"] == 1]\n",
        "df = df_open\n",
        "\n",
        "df = df.drop([\"Open\"], axis = 1)\n",
        "data = df\n",
        "def indexFinder(data, date):\n",
        "  \"\"\"\n",
        "  Returns the index of the last instance of a date\n",
        "  \"\"\"\n",
        "  i = data.loc[(data['Date'] == date)].index[-1]\n",
        "  return i\n",
        "\n",
        "data = data.sort_values(['Date', 'Store'])\n",
        "data = data.reset_index(drop=True)\n",
        "\n",
        "#Finding indexes of sets\n",
        "last_index_train = indexFinder(data, '2015-07-31')\n",
        "\n",
        "first_index_test = indexFinder(data, '2015-07-31') +1\n",
        "\n",
        "traindata = data.loc[:last_index_train, :]\n",
        "\n",
        "testdata = data.loc[first_index_test:, :]\n",
        "\n",
        "y_train, y_test = traindata[['Sales']], testdata[[\"Sales\"]]\n",
        "\n",
        "X_train = traindata.drop([\"Sales\"], axis = 1)\n",
        "X_test = testdata.drop([\"Sales\"], axis = 1)\n"
      ]
    },
    {
      "cell_type": "code",
      "source": [
        "print(X_test.head())"
      ],
      "metadata": {
        "colab": {
          "base_uri": "https://localhost:8080/"
        },
        "id": "rs-nyIuTvbNq",
        "outputId": "254b0aeb-01a7-4b03-8701-e1bb4109ab3d"
      },
      "execution_count": null,
      "outputs": [
        {
          "output_type": "stream",
          "name": "stdout",
          "text": [
            "Empty DataFrame\n",
            "Columns: [Store, DayOfWeek, Date, Promo, SchoolHoliday, CompetitionDistance, Promo2, Promo2SinceWeek, Promo2SinceYear, PromoInterval1, PromoInterval2, PromoInterval3, NoPromo, Storetypea, Storetypeb, Storetypec, Storetyped, Assortmenta, Assortmentb, Assortmentc, MonthsSinceCompetitionOpen, WeeksSincePromo, Month, Day, StateHoliday_0, StateHoliday_a, StateHoliday_b, StateHoliday_c, Rolling_Mean_1Week, Rolling_SD_1Week, Rolling_Mean_2weeks, Rolling_SD_2weeks, Rolling_Mean_1year, Rolling_SD_1year]\n",
            "Index: []\n",
            "\n",
            "[0 rows x 34 columns]\n"
          ]
        }
      ]
    },
    {
      "cell_type": "code",
      "execution_count": null,
      "metadata": {
        "colab": {
          "base_uri": "https://localhost:8080/"
        },
        "id": "SEc8_T0Cf7-6",
        "outputId": "384474ba-475a-463c-f7f6-dc838254ffa8"
      },
      "outputs": [
        {
          "output_type": "stream",
          "name": "stdout",
          "text": [
            "xtrain:  (169650, 34)\n",
            "ytrain:  (169650, 1)\n",
            "xtest:  (15908, 34)\n",
            "ytest:  (15908, 1)\n"
          ]
        }
      ],
      "source": [
        "print(\"xtrain: \", X_train.shape)\n",
        "print(\"ytrain: \", y_train.shape)\n",
        "\n",
        "print(\"xtest: \", X_test.shape)\n",
        "print(\"ytest: \", y_test.shape)"
      ]
    },
    {
      "cell_type": "code",
      "execution_count": null,
      "metadata": {
        "colab": {
          "base_uri": "https://localhost:8080/"
        },
        "id": "CL05k7eYPuA0",
        "outputId": "df6a971f-30e6-4d88-bcac-53fbbf11842f"
      },
      "outputs": [
        {
          "output_type": "stream",
          "name": "stdout",
          "text": [
            "Index(['Store', 'DayOfWeek', 'Date', 'Promo', 'SchoolHoliday',\n",
            "       'CompetitionDistance', 'Promo2', 'Promo2SinceWeek', 'Promo2SinceYear',\n",
            "       'PromoInterval1', 'PromoInterval2', 'PromoInterval3', 'NoPromo',\n",
            "       'Storetypea', 'Storetypeb', 'Storetypec', 'Storetyped', 'Assortmenta',\n",
            "       'Assortmentb', 'Assortmentc', 'MonthsSinceCompetitionOpen',\n",
            "       'WeeksSincePromo', 'Month', 'Day', 'StateHoliday_0', 'StateHoliday_a',\n",
            "       'StateHoliday_b', 'StateHoliday_c', 'Rolling_Mean_1Week',\n",
            "       'Rolling_SD_1Week', 'Rolling_Mean_2weeks', 'Rolling_SD_2weeks',\n",
            "       'Rolling_Mean_1year', 'Rolling_SD_1year'],\n",
            "      dtype='object')\n"
          ]
        }
      ],
      "source": [
        "print(X_train.columns)"
      ]
    },
    {
      "cell_type": "code",
      "execution_count": null,
      "metadata": {
        "id": "E4w4Ct2kgKg_"
      },
      "outputs": [],
      "source": [
        "from sklearn.model_selection import learning_curve\n",
        "from sklearn.model_selection import TimeSeriesSplit, GridSearchCV\n",
        "from sklearn.metrics import mean_squared_error\n",
        "from sklearn.metrics import mean_absolute_error\n",
        "from sklearn.preprocessing import StandardScaler\n",
        "import numpy as np\n",
        "from sklearn.model_selection import TimeSeriesSplit, cross_val_score"
      ]
    },
    {
      "cell_type": "code",
      "execution_count": null,
      "metadata": {
        "colab": {
          "base_uri": "https://localhost:8080/"
        },
        "id": "h31eqAJ5h_oo",
        "outputId": "9fd67174-58b9-42b2-aa30-db0688787d6e"
      },
      "outputs": [
        {
          "output_type": "stream",
          "name": "stdout",
          "text": [
            "Store                                  int64\n",
            "DayOfWeek                              int64\n",
            "Date                          datetime64[ns]\n",
            "Sales                                float64\n",
            "Promo                                  int64\n",
            "SchoolHoliday                          int64\n",
            "CompetitionDistance                    int64\n",
            "Promo2                                 int64\n",
            "Promo2SinceWeek                        int64\n",
            "Promo2SinceYear                        int64\n",
            "PromoInterval1                         int64\n",
            "PromoInterval2                         int64\n",
            "PromoInterval3                         int64\n",
            "NoPromo                                int64\n",
            "Storetypea                             int64\n",
            "Storetypeb                             int64\n",
            "Storetypec                             int64\n",
            "Storetyped                             int64\n",
            "Assortmenta                            int64\n",
            "Assortmentb                            int64\n",
            "Assortmentc                            int64\n",
            "MonthsSinceCompetitionOpen             int64\n",
            "WeeksSincePromo                        int64\n",
            "Month                                  int64\n",
            "Day                                    int64\n",
            "StateHoliday_0                          bool\n",
            "StateHoliday_a                          bool\n",
            "StateHoliday_b                          bool\n",
            "StateHoliday_c                          bool\n",
            "Rolling_Mean_1Week                   float64\n",
            "Rolling_SD_1Week                     float64\n",
            "Rolling_Mean_2weeks                  float64\n",
            "Rolling_SD_2weeks                    float64\n",
            "Rolling_Mean_1year                   float64\n",
            "Rolling_SD_1year                     float64\n",
            "dtype: object\n"
          ]
        }
      ],
      "source": [
        "print(data.dtypes)"
      ]
    },
    {
      "cell_type": "code",
      "execution_count": null,
      "metadata": {
        "colab": {
          "base_uri": "https://localhost:8080/"
        },
        "id": "myd3dTzCjenu",
        "outputId": "09583f4e-fdf9-495c-9beb-12dcb2dc2651"
      },
      "outputs": [
        {
          "output_type": "stream",
          "name": "stdout",
          "text": [
            "xtrain:  (169650, 34)\n",
            "ytrain:  (169650, 1)\n",
            "xtest:  (15908, 34)\n",
            "ytest:  (15908, 1)\n"
          ]
        }
      ],
      "source": [
        "print(\"xtrain: \", X_train.shape)\n",
        "print(\"ytrain: \", y_train.shape)\n",
        "\n",
        "print(\"xtest: \", X_test.shape)\n",
        "print(\"ytest: \", y_test.shape)\n",
        "\n",
        "\n",
        "X_train = X_train.drop([\"Date\"], axis = 1)\n",
        "\n"
      ]
    },
    {
      "cell_type": "code",
      "execution_count": null,
      "metadata": {
        "colab": {
          "base_uri": "https://localhost:8080/"
        },
        "id": "RnaQ3YxKj6G1",
        "outputId": "7ce6f49d-6d61-47c5-c0f4-47a81ce2ee38"
      },
      "outputs": [
        {
          "output_type": "stream",
          "name": "stdout",
          "text": [
            "xtrain:  (169650, 33)\n",
            "ytrain:  (169650, 1)\n",
            "xtest:  (15908, 33)\n",
            "ytest:  (15908, 1)\n"
          ]
        }
      ],
      "source": [
        "X_test = X_test.drop([\"Date\"], axis = 1)\n",
        "\n",
        "print(\"xtrain: \", X_train.shape)\n",
        "print(\"ytrain: \", y_train.shape)\n",
        "\n",
        "print(\"xtest: \", X_test.shape)\n",
        "print(\"ytest: \", y_test.shape)"
      ]
    },
    {
      "cell_type": "code",
      "execution_count": null,
      "metadata": {
        "id": "1fKprOh_kK0m"
      },
      "outputs": [],
      "source": [
        "from sklearn.model_selection import TimeSeriesSplit\n",
        "# Create an instance of TimeSeriesSplit\n",
        "time_series_cv = TimeSeriesSplit(n_splits=5)"
      ]
    },
    {
      "cell_type": "code",
      "execution_count": null,
      "metadata": {
        "colab": {
          "base_uri": "https://localhost:8080/"
        },
        "id": "p8zkyB8ZgYEP",
        "outputId": "dc0e3750-729f-4cf9-b30f-bf390cd682c8"
      },
      "outputs": [
        {
          "output_type": "stream",
          "name": "stderr",
          "text": [
            "<ipython-input-61-2cccdcf008f0>:3: DataConversionWarning: A column-vector y was passed when a 1d array was expected. Please change the shape of y to (n_samples,), for example using ravel().\n",
            "  model.fit(X_train, y_train)\n",
            "/usr/local/lib/python3.10/dist-packages/sklearn/model_selection/_validation.py:686: DataConversionWarning: A column-vector y was passed when a 1d array was expected. Please change the shape of y to (n_samples,), for example using ravel().\n",
            "  estimator.fit(X_train, y_train, **fit_params)\n",
            "/usr/local/lib/python3.10/dist-packages/sklearn/model_selection/_validation.py:686: DataConversionWarning: A column-vector y was passed when a 1d array was expected. Please change the shape of y to (n_samples,), for example using ravel().\n",
            "  estimator.fit(X_train, y_train, **fit_params)\n",
            "/usr/local/lib/python3.10/dist-packages/sklearn/model_selection/_validation.py:686: DataConversionWarning: A column-vector y was passed when a 1d array was expected. Please change the shape of y to (n_samples,), for example using ravel().\n",
            "  estimator.fit(X_train, y_train, **fit_params)\n",
            "/usr/local/lib/python3.10/dist-packages/sklearn/model_selection/_validation.py:686: DataConversionWarning: A column-vector y was passed when a 1d array was expected. Please change the shape of y to (n_samples,), for example using ravel().\n",
            "  estimator.fit(X_train, y_train, **fit_params)\n",
            "/usr/local/lib/python3.10/dist-packages/sklearn/model_selection/_validation.py:686: DataConversionWarning: A column-vector y was passed when a 1d array was expected. Please change the shape of y to (n_samples,), for example using ravel().\n",
            "  estimator.fit(X_train, y_train, **fit_params)\n"
          ]
        }
      ],
      "source": [
        "model = RandomForestRegressor(n_estimators = 100, random_state = 42)\n",
        "\n",
        "model.fit(X_train, y_train)\n",
        "\n",
        "#Cross-validation score of base model\n",
        "cv_score = cross_val_score(model, X_train, y_train, cv=time_series_cv)\n",
        "#Calculate and print the mean cross-validation score\n",
        "mean_cv_score = np.mean(cv_score)\n"
      ]
    },
    {
      "cell_type": "code",
      "execution_count": null,
      "metadata": {
        "colab": {
          "base_uri": "https://localhost:8080/"
        },
        "id": "hwx9hu9A830K",
        "outputId": "d72e0fd0-f7e0-45c4-c76b-e92854389968"
      },
      "outputs": [
        {
          "output_type": "stream",
          "name": "stdout",
          "text": [
            "Base model's mean cross-validation score is:  0.8858526529815889\n"
          ]
        }
      ],
      "source": [
        "#Prints Random Forest Regressor's mean cross-validation score\n",
        "print(\"Base model's mean cross-validation score is: \", mean_cv_score)"
      ]
    },
    {
      "cell_type": "code",
      "execution_count": null,
      "metadata": {
        "colab": {
          "base_uri": "https://localhost:8080/"
        },
        "id": "tH30SAng8-Xw",
        "outputId": "585feb4c-3bd0-41a1-90e0-0d9d2456ca34"
      },
      "outputs": [
        {
          "output_type": "stream",
          "name": "stdout",
          "text": [
            "Base model's R-squared value on training data is:  0.9922808819498772\n",
            "Base model's R-squared value on testing data is:  0.9229699622332714\n"
          ]
        }
      ],
      "source": [
        "#Prints R-squared value for model on training data\n",
        "print(\"Base model's R-squared value on training data is: \",model.score(X_train, y_train))\n",
        "\n",
        "#Prints R-squared value for model on testing data\n",
        "print(\"Base model's R-squared value on testing data is: \",model.score(X_test, y_test))\n"
      ]
    },
    {
      "cell_type": "code",
      "source": [],
      "metadata": {
        "id": "MXnGLw4u-rpT"
      },
      "execution_count": null,
      "outputs": []
    },
    {
      "cell_type": "code",
      "execution_count": null,
      "metadata": {
        "colab": {
          "base_uri": "https://localhost:8080/"
        },
        "id": "BW0IWuHhS0rg",
        "outputId": "b6b3aa96-b858-46d3-d253-b1e8a953386e"
      },
      "outputs": [
        {
          "output_type": "stream",
          "name": "stdout",
          "text": [
            "Mean Absolute error after: 594.4814775618605\n"
          ]
        }
      ],
      "source": [
        "pred = model.predict(X_test)\n",
        "MAE_base = mean_absolute_error(y_test, pred)\n",
        "print(\"Mean Absolute error after:\", MAE_base)"
      ]
    },
    {
      "cell_type": "code",
      "source": [
        "print(y_test.shape)\n",
        "print(pred.shape)"
      ],
      "metadata": {
        "colab": {
          "base_uri": "https://localhost:8080/"
        },
        "id": "2Z-4MQKV_TvL",
        "outputId": "6f5303b7-038d-49c2-fe49-3e2e1b9d8292"
      },
      "execution_count": null,
      "outputs": [
        {
          "output_type": "stream",
          "name": "stdout",
          "text": [
            "(15908, 1)\n",
            "(15908,)\n"
          ]
        }
      ]
    },
    {
      "cell_type": "code",
      "source": [
        "# Define RMSPE function\n",
        "def rmspe(y_true, y_pred):\n",
        "    mask = y_true != 0\n",
        "    rmspe = np.sqrt(np.mean(((y_true[mask] - y_pred[mask]) / y_true[mask]) ** 2))\n",
        "    return rmspe\n",
        "\n",
        "y_test = y_test.values\n",
        "y_test = y_test.ravel()\n",
        "\n",
        "print(\"RMSPE is:\", rmspe(y_test,pred))"
      ],
      "metadata": {
        "colab": {
          "base_uri": "https://localhost:8080/"
        },
        "id": "mqO2-tfC-7aC",
        "outputId": "de7ce4bd-8de8-40ff-ded3-649ec380f860"
      },
      "execution_count": null,
      "outputs": [
        {
          "output_type": "stream",
          "name": "stdout",
          "text": [
            "RMSPE is: 0.14013890736474557\n"
          ]
        }
      ]
    },
    {
      "cell_type": "code",
      "execution_count": null,
      "metadata": {
        "colab": {
          "base_uri": "https://localhost:8080/"
        },
        "id": "6ShVoOs1TKD5",
        "outputId": "a31ac513-701f-4b40-faaf-7f2258c1d15a"
      },
      "outputs": [
        {
          "name": "stdout",
          "output_type": "stream",
          "text": [
            "Root Mean Squared Error (RMSE): 429.2456112531123\n"
          ]
        }
      ],
      "source": [
        "from sklearn.metrics import mean_squared_error\n",
        "import numpy as np\n",
        "\n",
        "# Assuming y_true contains the true target values and y_pred contains the predicted values\n",
        "# Calculate Mean Squared Error (MSE)\n",
        "mse = mean_squared_error(y_test, pred)\n",
        "\n",
        "# Calculate Root Mean Squared Error (RMSE)\n",
        "rmse = np.sqrt(mse)\n",
        "\n",
        "print(\"Root Mean Squared Error (RMSE):\", rmse)\n"
      ]
    },
    {
      "cell_type": "code",
      "execution_count": null,
      "metadata": {
        "colab": {
          "base_uri": "https://localhost:8080/",
          "height": 332
        },
        "id": "Mzw1H9cQRedi",
        "outputId": "624cf89e-18ad-42a3-e870-82d35fb64d27"
      },
      "outputs": [
        {
          "ename": "IndexError",
          "evalue": "too many indices for array: array is 1-dimensional, but 2 were indexed",
          "output_type": "error",
          "traceback": [
            "\u001b[0;31m---------------------------------------------------------------------------\u001b[0m",
            "\u001b[0;31mIndexError\u001b[0m                                Traceback (most recent call last)",
            "\u001b[0;32m<ipython-input-68-1cab51772477>\u001b[0m in \u001b[0;36m<cell line: 15>\u001b[0;34m()\u001b[0m\n\u001b[1;32m     13\u001b[0m \u001b[0;31m# Example usage:\u001b[0m\u001b[0;34m\u001b[0m\u001b[0;34m\u001b[0m\u001b[0m\n\u001b[1;32m     14\u001b[0m \u001b[0;34m\u001b[0m\u001b[0m\n\u001b[0;32m---> 15\u001b[0;31m \u001b[0mprint\u001b[0m\u001b[0;34m(\u001b[0m\u001b[0mrmspe\u001b[0m\u001b[0;34m(\u001b[0m\u001b[0mnp\u001b[0m\u001b[0;34m.\u001b[0m\u001b[0marray\u001b[0m\u001b[0;34m(\u001b[0m\u001b[0my_test\u001b[0m\u001b[0;34m)\u001b[0m\u001b[0;34m,\u001b[0m \u001b[0mnp\u001b[0m\u001b[0;34m.\u001b[0m\u001b[0marray\u001b[0m\u001b[0;34m(\u001b[0m\u001b[0mpred\u001b[0m\u001b[0;34m)\u001b[0m\u001b[0;34m)\u001b[0m\u001b[0;34m)\u001b[0m\u001b[0;34m\u001b[0m\u001b[0;34m\u001b[0m\u001b[0m\n\u001b[0m\u001b[1;32m     16\u001b[0m \u001b[0;34m\u001b[0m\u001b[0m\n\u001b[1;32m     17\u001b[0m \u001b[0;34m\u001b[0m\u001b[0m\n",
            "\u001b[0;32m<ipython-input-68-1cab51772477>\u001b[0m in \u001b[0;36mrmspe\u001b[0;34m(y_true, y_pred)\u001b[0m\n\u001b[1;32m      5\u001b[0m     \u001b[0mmask\u001b[0m \u001b[0;34m=\u001b[0m \u001b[0my_true\u001b[0m \u001b[0;34m!=\u001b[0m \u001b[0;36m0\u001b[0m\u001b[0;34m\u001b[0m\u001b[0;34m\u001b[0m\u001b[0m\n\u001b[1;32m      6\u001b[0m     \u001b[0my_true\u001b[0m \u001b[0;34m=\u001b[0m \u001b[0my_true\u001b[0m\u001b[0;34m[\u001b[0m\u001b[0mmask\u001b[0m\u001b[0;34m]\u001b[0m\u001b[0;34m\u001b[0m\u001b[0;34m\u001b[0m\u001b[0m\n\u001b[0;32m----> 7\u001b[0;31m     \u001b[0my_pred\u001b[0m \u001b[0;34m=\u001b[0m \u001b[0my_pred\u001b[0m\u001b[0;34m[\u001b[0m\u001b[0mmask\u001b[0m\u001b[0;34m]\u001b[0m\u001b[0;34m\u001b[0m\u001b[0;34m\u001b[0m\u001b[0m\n\u001b[0m\u001b[1;32m      8\u001b[0m \u001b[0;34m\u001b[0m\u001b[0m\n\u001b[1;32m      9\u001b[0m     \u001b[0;31m# Calculate RMSPE\u001b[0m\u001b[0;34m\u001b[0m\u001b[0;34m\u001b[0m\u001b[0m\n",
            "\u001b[0;31mIndexError\u001b[0m: too many indices for array: array is 1-dimensional, but 2 were indexed"
          ]
        }
      ],
      "source": [
        "import numpy as np\n",
        "\n",
        "def rmspe(y_true, y_pred):\n",
        "    # Remove zeros from denominator to avoid division by zero\n",
        "    mask = y_true != 0\n",
        "    y_true = y_true[mask]\n",
        "    y_pred = y_pred[mask]\n",
        "\n",
        "    # Calculate RMSPE\n",
        "    rmspe = np.sqrt(np.mean(((y_true - y_pred) / y_true) ** 2))\n",
        "    return rmspe\n",
        "\n",
        "# Example usage:\n",
        "\n",
        "print(rmspe(np.array(y_test), np.array(pred)))\n",
        "\n",
        "\n"
      ]
    },
    {
      "cell_type": "code",
      "execution_count": null,
      "metadata": {
        "colab": {
          "base_uri": "https://localhost:8080/",
          "height": 1000
        },
        "id": "J1Pd1bQi-9Uk",
        "outputId": "34383ca5-1d25-4364-8056-22426209a634"
      },
      "outputs": [
        {
          "name": "stdout",
          "output_type": "stream",
          "text": [
            "Feature ranking:\n",
            "1. Rolling_SD_1year: 0.33711380866973517\n",
            "2. Promo: 0.13232677949540295\n",
            "3. Rolling_Mean_1year: 0.10967891778302616\n",
            "4. day_of_week_sin: 0.04490526353858033\n",
            "5. Day: 0.04062820263300673\n",
            "6. Rolling_SD_2weeks: 0.03644045807483836\n",
            "7. Store: 0.035911620348264596\n",
            "8. Rolling_SD_1Week: 0.035590414934704974\n",
            "9. Rolling_Mean_2weeks: 0.035549407338162364\n",
            "10. Rolling_Mean_1Week: 0.033213050669110386\n",
            "11. Month: 0.032602804144959356\n",
            "12. MonthsSinceCompetitionOpen: 0.027110186173520998\n",
            "13. DayOfWeek: 0.02280888398115293\n",
            "14. CompetitionDistance: 0.017885394190825875\n",
            "15. day_of_week_cos: 0.01515456470942501\n",
            "16. WeeksSincePromo: 0.009547801358273964\n",
            "17. Promo2SinceWeek: 0.00846881144007189\n",
            "18. Promo2SinceYear: 0.003937161339793129\n",
            "19. SchoolHoliday: 0.0032421271765400287\n",
            "20. Assortmenta: 0.002233185307862585\n",
            "21. Assortmentc: 0.002202833933087466\n",
            "22. PromoInterval2: 0.0020539128178392796\n",
            "23. Storetypec: 0.0018024893491543747\n",
            "24. Storetyped: 0.0016284055062279175\n",
            "25. NoPromo: 0.0015969254671080809\n",
            "26. StateHoliday_0: 0.001588080545043688\n",
            "27. PromoInterval3: 0.0015294087795885505\n",
            "28. PromoInterval1: 0.0014886840706902517\n",
            "29. Promo2: 0.0012463700965370324\n",
            "30. StateHoliday_a: 0.0005133954166550077\n",
            "31. StateHoliday_b: 6.507108105547342e-07\n",
            "32. Storetypeb: 0.0\n",
            "33. Storetypea: 0.0\n",
            "34. StateHoliday_c: 0.0\n",
            "35. Assortmentb: 0.0\n"
          ]
        },
        {
          "data": {
            "image/png": "[encoded data removed]",
            "text/plain": [
              "<Figure size 1000x600 with 1 Axes>"
            ]
          },
          "metadata": {},
          "output_type": "display_data"
        }
      ],
      "source": [
        "#Using the base model, let's see the feature importances\n",
        "feature_importances = model.feature_importances_\n",
        "\n",
        "feature_names = X_train.columns\n",
        "\n",
        "#Sorting the indices by importance in a descending order\n",
        "indices = np.argsort(feature_importances)[::-1]\n",
        "\n",
        "#Display the features in order of decreasing importance\n",
        "print(\"Feature ranking:\")\n",
        "for f in range(len(feature_names)):\n",
        "    print(f\"{f + 1}. {feature_names[indices[f]]}: {feature_importances[indices[f]]}\")\n",
        "\n",
        "#Displaying a bar plot feature importances in Random Forest\n",
        "plt.figure(figsize=(10, 6))\n",
        "plt.title(\"Feature Importances\")\n",
        "plt.bar(range(len(feature_names)), feature_importances[indices], align=\"center\")\n",
        "plt.xticks(range(len(feature_names)), [feature_names[i] for i in indices], rotation=90)\n",
        "plt.tight_layout()\n",
        "plt.show()"
      ]
    }
  ],
  "metadata": {
    "colab": {
      "provenance": [],
      "include_colab_link": true
    },
    "kernelspec": {
      "display_name": "Python 3",
      "name": "python3"
    },
    "language_info": {
      "name": "python"
    }
  },
  "nbformat": 4,
  "nbformat_minor": 0
}